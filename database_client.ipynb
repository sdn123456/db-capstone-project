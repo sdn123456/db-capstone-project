{
 "cells": [
  {
   "cell_type": "markdown",
   "metadata": {},
   "source": [
    "Connect to the server and the database."
   ]
  },
  {
   "cell_type": "code",
   "execution_count": 1,
   "metadata": {},
   "outputs": [
    {
     "name": "stdout",
     "output_type": "stream",
     "text": [
      "Error: 1045 (28000): Access denied for user 'newuser'@'localhost' (using password: YES)\n"
     ]
    },
    {
     "ename": "NameError",
     "evalue": "name 'connection' is not defined",
     "output_type": "error",
     "traceback": [
      "\u001b[0;31m---------------------------------------------------------------------------\u001b[0m",
      "\u001b[0;31mNameError\u001b[0m                                 Traceback (most recent call last)",
      "Cell \u001b[0;32mIn[1], line 7\u001b[0m\n\u001b[1;32m      5\u001b[0m \u001b[38;5;28;01mexcept\u001b[39;00m connector\u001b[38;5;241m.\u001b[39mError \u001b[38;5;28;01mas\u001b[39;00m err:\n\u001b[1;32m      6\u001b[0m     \u001b[38;5;28mprint\u001b[39m(\u001b[38;5;124m\"\u001b[39m\u001b[38;5;124mError:\u001b[39m\u001b[38;5;124m\"\u001b[39m, err)\n\u001b[0;32m----> 7\u001b[0m cursor \u001b[38;5;241m=\u001b[39m \u001b[43mconnection\u001b[49m\u001b[38;5;241m.\u001b[39mcursor()\n\u001b[1;32m      8\u001b[0m \u001b[38;5;28mprint\u001b[39m(\u001b[38;5;124m\"\u001b[39m\u001b[38;5;124mThe cursor is created.\u001b[39m\u001b[38;5;124m\"\u001b[39m)\n",
      "\u001b[0;31mNameError\u001b[0m: name 'connection' is not defined"
     ]
    }
   ],
   "source": [
    "import mysql.connector as connector\n",
    "\n",
    "try:\n",
    "    connection = connector.connect(user=\"newuser\", password=\"user2023#Password\", db = \"littleLemonDB\")\n",
    "except connector.Error as err:\n",
    "    print(\"Error:\", err)\n",
    "cursor = connection.cursor()\n",
    "print(\"The cursor is created.\")"
   ]
  },
  {
   "cell_type": "markdown",
   "metadata": {},
   "source": [
    "Show all the tables."
   ]
  },
  {
   "cell_type": "code",
   "execution_count": null,
   "metadata": {},
   "outputs": [],
   "source": [
    "show_tables_query = \"SHOW tables\" \n",
    "cursor.execute(show_tables_query)\n",
    "results=cursor.fetchall\n",
    "print(results)"
   ]
  },
  {
   "cell_type": "code",
   "execution_count": null,
   "metadata": {},
   "outputs": [],
   "source": [
    "filter_cost_query = \"\"\"SELECT customers.customer_name, orders.order_cost\n",
    "FROM customers\n",
    "JOIN orders ON customers.customer_id = orders.customer_id\n",
    "WHERE orders.order_cost > 50;\"\"\"\n",
    "cursor.execute(filter_cost_query)\n",
    "results=cursor.fetchall\n",
    "print(results)"
   ]
  },
  {
   "cell_type": "markdown",
   "metadata": {},
   "source": [
    "Virtual Tables to Summarize Data"
   ]
  },
  {
   "cell_type": "code",
   "execution_count": null,
   "metadata": {},
   "outputs": [],
   "source": [
    "ordersview_query =\"\"\"CREATE VIEW ordersview AS\n",
    "    SELECT\n",
    "        Orders.Orders_ID,\n",
    "        Orders.Quantity,\n",
    "        Orders.Total Cost\n",
    "    FROM\n",
    "        Orders\n",
    "    WHERE\n",
    "        (Orders.Quantity > 2)\"\"\"\n",
    "cursor.execute(ordersview_query)\n",
    "results=cursor.fetchall\n",
    "print(results)"
   ]
  },
  {
   "cell_type": "code",
   "execution_count": null,
   "metadata": {},
   "outputs": [],
   "source": [
    "four_table_view_query = \"\"\"CREATE VIEW four_table_view AS\n",
    "SELECT\n",
    "    Customers.Customer_ID,\n",
    "    Customers.Name,\n",
    "    Orders.Order_ID,\n",
    "    Orders.Cost,\n",
    "    Menus.Name,\n",
    "    MenusItems.Course,\n",
    "    MenusItems.Starter\n",
    "FROM\n",
    "    Customers\n",
    "    JOIN Orders ON Customers.Name = Orders.Order_ID\n",
    "    JOIN Menus ON Orders.Cost = Menus.Name\n",
    "    JOIN MenuItems ON Menus.Name = MenuItems.Course\n",
    "ORDER BY Orders.Cost DESC;\"\"\"\n",
    "cursor.execute(four_table_view_query)\n",
    "results=cursor.fetchall\n",
    "print(results)"
   ]
  },
  {
   "cell_type": "code",
   "execution_count": null,
   "metadata": {},
   "outputs": [],
   "source": [
    "more_than_two_query = \"\"\"CREATE VIEW more_than_two AS\n",
    "SELECT Names\n",
    "FROM Menus\n",
    "WHERE Menu_ID = ANY (\n",
    "    SELECT Menu_ID\n",
    "    FROM Orders\n",
    "    WHERE quantity > 2\n",
    ");\"\"\"\n",
    "cursor.execute(more_than_two_query)\n",
    "results=cursor.fetchall\n",
    "print(results)"
   ]
  },
  {
   "cell_type": "markdown",
   "metadata": {},
   "source": [
    "Get Max Quantity"
   ]
  },
  {
   "cell_type": "code",
   "execution_count": null,
   "metadata": {},
   "outputs": [],
   "source": [
    "get_max_quantity_query =\"\"\"CREATE PROCEDURE GetMaxQuantity()\n",
    "BEGIN\n",
    "   DECLARE maxQuantity INT;\n",
    "\n",
    "   SELECT MAX(quantity) INTO maxQuantity\n",
    "    FROM orders;\n",
    "\n",
    "   SELECT maxQuantity AS 'Maximum Quantity';\n",
    "END //\"\"\"\n",
    "call_max_query = \"\"\"CALL GetMaxQuantity();\"\"\"\n",
    "cursor.execute(get_max_quantity_query)\n",
    "cursor.execute(call_max_query)\n",
    "results=cursor.fetchall\n",
    "print(results)"
   ]
  },
  {
   "cell_type": "markdown",
   "metadata": {},
   "source": [
    "Get Order Detail"
   ]
  },
  {
   "cell_type": "code",
   "execution_count": null,
   "metadata": {},
   "outputs": [],
   "source": [
    "get_order_detail_query =\"\"\"DECLARE id INT;\n",
    "SET id = 1;\n",
    "\n",
    "DECLARE Order_ID INT;\n",
    "DECLARE quantity INT;\n",
    "DECLARE cost DECIMAL(10, 2);\n",
    "\n",
    "PREPARE GetOrderDetail (INT) AS\n",
    "    SELECT Order_ID, quantity, cost\n",
    "    FROM Orders\n",
    "    WHERE Customer_ID = $1;\n",
    "\n",
    "EXECUTE GetOrderDetail USING inputID;\"\"\"\n",
    "cursor.execute(get_order_detail_query)\n",
    "results=cursor.fetchall\n",
    "print(results)"
   ]
  },
  {
   "cell_type": "markdown",
   "metadata": {},
   "source": [
    "Cancel Order"
   ]
  },
  {
   "cell_type": "code",
   "execution_count": null,
   "metadata": {},
   "outputs": [],
   "source": [
    "cancel_order_query = \"\"\"CREATE PROCEDURE CancelOrder(IN id INT)\n",
    "BEGIN\n",
    "        DELETE FROM Orders WHERE Orders_ID = id;\n",
    "END //\"\"\"\n",
    "cursor.execute(cancel_order_query)"
   ]
  },
  {
   "cell_type": "markdown",
   "metadata": {},
   "source": [
    "Bookings Procedure"
   ]
  },
  {
   "cell_type": "code",
   "execution_count": null,
   "metadata": {},
   "outputs": [],
   "source": [
    "insert_into_bookings_query = \"\"\"INSERT INTO Bookings (Booking_ID, Booking_Date, TableNumber, Customer_ID)\n",
    "VALUES\n",
    "    (1, 2022-10-10, 5, 1),\n",
    "    (2, 2022-11-12, 3, 3),\n",
    "    (3, 2022-10-11, 2, 2),\n",
    "    (4, 2022-10-13, 2, 1);\"\"\"\n",
    "cursor.execute(insert_into_bookings_query)"
   ]
  },
  {
   "cell_type": "code",
   "execution_count": null,
   "metadata": {},
   "outputs": [],
   "source": [
    "check_bookings_query = \"\"\"CREATE PROCEDURE CheckBooking(IN p_date DATE, IN p_table_number INT)\n",
    "BEGIN\n",
    "    DECLARE table_count INT;\n",
    "\n",
    "    SELECT COUNT(*) INTO table_count\n",
    "    FROM bookings\n",
    "    WHERE booking_date = p_date AND table_number = p_table_number;\n",
    "\n",
    "    IF room_count > 0 THEN\n",
    "        SELECT CONCAT('Room ', p_table_number, ' is booked') AS result_message;\n",
    "    ELSE\n",
    "        SELECT CONCAT('Room ', p_table_number, ' is available') AS result_message;\n",
    "    END IF;\n",
    "END //\"\"\"\n",
    "cursor.execute(check_bookings_query)"
   ]
  },
  {
   "cell_type": "code",
   "execution_count": null,
   "metadata": {},
   "outputs": [],
   "source": [
    "add_valid_booking_query = \"\"\"CREATE PROCEDURE AddValidBooking(IN p_date DATE, IN p_table_number INT, IN p_guest_name VARCHAR(255))\n",
    "BEGIN\n",
    "    DECLARE table_count INT;\n",
    "\n",
    "    START TRANSACTION;\n",
    "\n",
    "    SELECT COUNT(*) INTO table_count\n",
    "    FROM bookings\n",
    "    WHERE booking_date = p_date AND table_number = p_table_number;\n",
    "\n",
    "    IF table_count = 0 THEN\n",
    "        INSERT INTO bookings (booking_date, table_number, guest_name)\n",
    "        VALUES (p_date, p_table_number, p_guest_name);\n",
    "\n",
    "        COMMIT;\n",
    "\n",
    "        SELECT CONCAT('Booking for Table ', p_table_number, ' on ', p_date, ' is successful') AS result_message;\n",
    "    ELSE\n",
    "        ROLLBACK;\n",
    "\n",
    "        SELECT CONCAT('Room ', p_table_number, ' is already booked on ', p_date) AS result_message;\n",
    "    END IF;\n",
    "END //\"\"\"\n",
    "cursor.execute(add_valid_booking_query)"
   ]
  },
  {
   "cell_type": "code",
   "execution_count": null,
   "metadata": {},
   "outputs": [],
   "source": [
    "add_booking_query = \"\"\"CREATE PROCEDURE AddBooking(\n",
    "    IN p_Booking_ID INT,\n",
    "    IN p_Name VARCHAR(255),\n",
    "    IN p_Date DATE,\n",
    "    IN p_table_Number INT\n",
    ")\n",
    "BEGIN\n",
    "    INSERT INTO bookings (Booking_ID, Name, Date, table_Number)\n",
    "    VALUES (p_Booking_ID, p_Name, p_Date, p_table_Number);\n",
    "END //\"\"\""
   ]
  },
  {
   "cell_type": "code",
   "execution_count": null,
   "metadata": {},
   "outputs": [],
   "source": [
    "update_booking_query = \"\"\"CREATE PROCEDURE UpdateBookingDate(\n",
    "    IN p_Booking_ID INT,\n",
    "    IN p_New_Date DATE\n",
    ")\n",
    "BEGIN\n",
    "    UPDATE bookings\n",
    "    SET Date = p_New_Date\n",
    "    WHERE Booking_ID = p_Booking_ID;\n",
    "END //\n",
    "\"\"\""
   ]
  },
  {
   "cell_type": "code",
   "execution_count": null,
   "metadata": {},
   "outputs": [],
   "source": [
    "cancel_booking_query = \"\"\"CREATE PROCEDURE CancelBooking(\n",
    "    IN p_Booking_ID INT\n",
    ")\n",
    "BEGIN\n",
    "    DELETE FROM bookings\n",
    "    WHERE Booking_ID = p_Booking_ID;\n",
    "END //\"\"\""
   ]
  }
 ],
 "metadata": {
  "kernelspec": {
   "display_name": "Python 3",
   "language": "python",
   "name": "python3"
  },
  "language_info": {
   "codemirror_mode": {
    "name": "ipython",
    "version": 3
   },
   "file_extension": ".py",
   "mimetype": "text/x-python",
   "name": "python",
   "nbconvert_exporter": "python",
   "pygments_lexer": "ipython3",
   "version": "3.9.6"
  },
  "orig_nbformat": 4
 },
 "nbformat": 4,
 "nbformat_minor": 2
}
